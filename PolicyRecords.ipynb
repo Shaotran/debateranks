{
 "cells": [
  {
   "cell_type": "markdown",
   "metadata": {},
   "source": [
    "Developed by Ethan Shaotran, 2019"
   ]
  },
  {
   "cell_type": "markdown",
   "metadata": {},
   "source": [
    "## IMPORTS"
   ]
  },
  {
   "cell_type": "code",
   "execution_count": 6,
   "metadata": {
    "collapsed": true
   },
   "outputs": [],
   "source": [
    "import pandas as pd\n",
    "from __future__ import division"
   ]
  },
  {
   "cell_type": "code",
   "execution_count": 2,
   "metadata": {
    "collapsed": true
   },
   "outputs": [],
   "source": [
    "#Records\n",
    "CurrentL1 = pd.read_csv('PolicyData/Current_L1.csv')\n",
    "CurrentL1.columns = ['Wins','Name','Code','School',' ', ' ', 'Standard Team Name', 'Num Rounds', 'Weighting']\n",
    "\n",
    "CurrentL2 = pd.read_csv('PolicyData/Current_L2.csv')\n",
    "CurrentL2.columns = ['Wins','Name','Code','School',' ', ' ', 'Standard Team Name', 'Num Rounds', 'Weighting']\n",
    "\n",
    "CurrentL3 = pd.read_csv('PolicyData/Current_L3.csv')\n",
    "CurrentL3.columns = ['Wins','Name','Code','School',' ', ' ', 'Standard Team Name', 'Num Rounds', 'Weighting']\n",
    "\n",
    "Current_Logan = pd.read_csv('PolicyData/Current_Logan.csv')\n",
    "Current_Logan.columns = ['Wins','Name','Code','School',' ', ' ', 'Standard Team Name', 'Num Rounds', 'Weighting']\n",
    "\n",
    "Current_SQ = pd.read_csv('PolicyData/Current_SQ.csv')\n",
    "Current_SQ.columns = ['Wins', 'Ballots','Name','Code','School', ' ', 'Standard Team Name', 'Num Rounds', 'Weighting']\n",
    "\n",
    "Current_NQ = pd.read_csv('PolicyData/Current_NQ.csv')\n",
    "Current_NQ.columns = ['Wins','Ballots','Name','Code','School', ' ', 'Standard Team Name', 'Num Rounds', 'Weighting']\n",
    "\n",
    "Past_L1 = pd.read_csv('PolicyData/Past_L1.csv')\n",
    "Past_L1.columns = ['Wins','Name','Code','School',' ', ' ', 'Standard Team Name', 'Num Rounds', 'Weighting']\n",
    "\n",
    "Past_L2 = pd.read_csv('PolicyData/Past_L2.csv')\n",
    "Past_L2.columns = ['Wins','Name','Code','School',' ', ' ', 'Standard Team Name', 'Num Rounds', 'Weighting']\n",
    "\n",
    "Past_L3 = pd.read_csv('PolicyData/Past_L3.csv')\n",
    "Past_L3.columns = ['Wins','Name','Code','School',' ', ' ', 'Standard Team Name', 'Num Rounds', 'Weighting']\n",
    "\n",
    "Past_SQ = pd.read_csv('PolicyData/Past_SQ.csv')\n",
    "Past_SQ.columns = ['Wins', 'Ballots','Name','Code','School', ' ', 'Standard Team Name', 'Num Rounds', 'Weighting']\n",
    "\n",
    "Past_NQ = pd.read_csv('PolicyData/Past_NQ.csv')\n",
    "Past_NQ.columns = ['Wins', 'Ballots','Name','Code','School', ' ', 'Standard Team Name', 'Num Rounds', 'Weighting']\n"
   ]
  },
  {
   "cell_type": "markdown",
   "metadata": {},
   "source": [
    "## Team List Aggregations (All, NQ)"
   ]
  },
  {
   "cell_type": "code",
   "execution_count": 3,
   "metadata": {
    "collapsed": true
   },
   "outputs": [],
   "source": [
    "ListOfTourns = [CurrentL1,CurrentL2,CurrentL3,Current_Logan,Current_SQ,Current_NQ,Past_L1,Past_L2,Past_L3,Past_SQ,Past_NQ]\n",
    "ListOfTeams = []\n",
    "ListOfTeamsFull = []\n",
    "for Tournament in ListOfTourns:\n",
    "    for team in range(1,Tournament.shape[0]):\n",
    "        StdTeamName = Tournament.iloc[team,6]\n",
    "        FullTeamName = \"(\" + str(Tournament['School'].iloc[team]) + \") \" + str(Tournament['Name'].iloc[team])\n",
    "        if StdTeamName not in ListOfTeams:\n",
    "            ListOfTeams.append(StdTeamName)\n",
    "            ListOfTeamsFull.append(FullTeamName)\n",
    "\n",
    "ListOfNQTeams = Current_NQ.iloc[:,6][1:]"
   ]
  },
  {
   "cell_type": "markdown",
   "metadata": {},
   "source": [
    "## Record Calculations"
   ]
  },
  {
   "cell_type": "code",
   "execution_count": 22,
   "metadata": {},
   "outputs": [],
   "source": [
    "ListOfSingleTourns = [CurrentL1,CurrentL2,CurrentL3,Current_Logan,Past_L1,Past_L2,Past_L3]\n",
    "ListOfPanelTourns = [Current_SQ,Past_SQ] #Past_NQ Separate\n",
    "ListOfPastNQTourns = [Past_NQ]\n",
    "\n",
    "records = pd.DataFrame(columns = [\"Team Code\", \"Team Name\", \"Win Rate\", \"Win Rate Adj\", \"P(Breaking)\",\"Wins\", \"Losses\", \"Logged Rounds\"])\n",
    "\n",
    "for index, team in enumerate(ListOfTeams):\n",
    "    wins = 0\n",
    "    rounds = 0\n",
    "    winsadj = 0\n",
    "    roundsadj = 0\n",
    "    \n",
    "    for Tournament in ListOfSingleTourns:\n",
    "        try:\n",
    "            rownum = Tournament.iloc[:,6].tolist().index(team)\n",
    "        except:\n",
    "            continue #Skip to next tournament\n",
    "        tournwins = int(Tournament.iloc[rownum, 0])\n",
    "        tournrounds = int(Tournament.iloc[1,7])\n",
    "        tournweight = float(Tournament.iloc[1,8])\n",
    "        wins+=tournwins\n",
    "        rounds+=tournrounds\n",
    "        winsadj+=tournwins * tournweight\n",
    "        roundsadj+=tournrounds * tournweight\n",
    "            \n",
    "    for Tournament in ListOfPanelTourns:\n",
    "        try:\n",
    "            rownum = Tournament.iloc[:,6].tolist().index(team)\n",
    "        except:\n",
    "            continue #Skip to next tournament\n",
    "        tournwins = int(Tournament.iloc[rownum, 1])\n",
    "        tournrounds = int(Tournament.iloc[1,7])\n",
    "        tournweight = float(Tournament.iloc[1,8])\n",
    "        wins+=tournwins\n",
    "        rounds+=tournrounds\n",
    "        winsadj+=tournwins * tournweight\n",
    "        roundsadj+=tournrounds * tournweight\n",
    "    \n",
    "    for Tournament in ListOfPastNQTourns:\n",
    "        try:\n",
    "            rownum = Tournament.iloc[:,6].tolist().index(team)\n",
    "        except:\n",
    "            continue #Skip to next tournament\n",
    "        tournwins = int(Tournament.iloc[rownum,1])\n",
    "        tournrounds = int(Tournament.iloc[rownum,7])\n",
    "        tournweight = float(Tournament.iloc[1,8])\n",
    "        wins+=tournwins\n",
    "        rounds+=tournrounds\n",
    "        winsadj+=tournwins * tournweight\n",
    "        roundsadj+=tournrounds * tournweight\n",
    "\n",
    "    if rounds > 0:\n",
    "        winRate = wins/rounds\n",
    "        winRateAdj = winsadj/roundsadj\n",
    "    else:\n",
    "        winRate = winRateAdj = 0\n",
    "    \n",
    "    #print(str(team)+\": \"+str(wins)+\", \"+str(rounds)+\", \"+str(WLrecord))\n",
    "    \n",
    "    losses = rounds - wins\n",
    "    teamfullname = ListOfTeamsFull[index]\n",
    "    \n",
    "    Pbreak = winRateAdj**4 + 4*(winRateAdj**3)*(1-winRateAdj)\n",
    "    \n",
    "    records.loc[index] = [team, teamfullname, winRate, winRateAdj, Pbreak, wins, losses, rounds]\n",
    "    \n",
    "    \n",
    "    "
   ]
  },
  {
   "cell_type": "markdown",
   "metadata": {},
   "source": [
    "## Download the Results"
   ]
  },
  {
   "cell_type": "code",
   "execution_count": 24,
   "metadata": {},
   "outputs": [
    {
     "name": "stderr",
     "output_type": "stream",
     "text": [
      "/Users/ethanshaotran/anaconda/lib/python2.7/site-packages/ipykernel_launcher.py:2: FutureWarning: sort(columns=....) is deprecated, use sort_values(by=.....)\n",
      "  \n"
     ]
    }
   ],
   "source": [
    "#records = records.sort_values('Win Rate', ascending=False)\n",
    "records = records.sort(['Win Rate', 'Logged Rounds'], ascending=[False, False])\n",
    "records.to_csv('CFLRankings.csv', index=False)"
   ]
  },
  {
   "cell_type": "code",
   "execution_count": null,
   "metadata": {
    "collapsed": true
   },
   "outputs": [],
   "source": []
  }
 ],
 "metadata": {
  "kernelspec": {
   "display_name": "Python 2",
   "language": "python",
   "name": "python2"
  },
  "language_info": {
   "codemirror_mode": {
    "name": "ipython",
    "version": 2
   },
   "file_extension": ".py",
   "mimetype": "text/x-python",
   "name": "python",
   "nbconvert_exporter": "python",
   "pygments_lexer": "ipython2",
   "version": "2.7.6"
  }
 },
 "nbformat": 4,
 "nbformat_minor": 2
}
